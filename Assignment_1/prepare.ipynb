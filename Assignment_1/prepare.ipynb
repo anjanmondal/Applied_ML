{
 "cells": [
  {
   "cell_type": "markdown",
   "id": "825ae44b-36b7-42b5-85ad-552a9be777ed",
   "metadata": {},
   "source": [
    "in prepare.ipynb write the functions to \n",
    "load the data from a given file path\n",
    "preprocess the data (if needed)\n",
    "split the data into train/validation/test \n",
    "store the splits at train.csv/validation.csv/test.csv\n"
   ]
  },
  {
   "cell_type": "code",
   "execution_count": 56,
   "id": "90251924-09b5-4992-b2d3-2b2fa1f2a52c",
   "metadata": {},
   "outputs": [],
   "source": [
    "import pandas as pd\n",
    "from sklearn.model_selection import train_test_split\n",
    "from sklearn.feature_extraction.text import CountVectorizer\n",
    "from sklearn.preprocessing import LabelEncoder\n",
    "from sklearn.utils import shuffle\n",
    "from nltk.tokenize import word_tokenize\n",
    "from nltk.stem import WordNetLemmatizer\n",
    "import nltk\n",
    "\n",
    "\n",
    "def load_data(file_path):\n",
    "    data = pd.read_csv(file_path)\n",
    "    return data\n",
    "\n",
    "def preprocess_data(data):\n",
    "    lemmatizer = WordNetLemmatizer()\n",
    "   \n",
    "    data['text'] = data['text'].apply(lambda x: x.lower())      # Convert text to lowercase\n",
    "    data['text'] = data['text'].apply(word_tokenize)   # Tokenize the text\n",
    "    data['text'] = data['text'].apply(lambda x: [lemmatizer.lemmatize(word) for word in x])\n",
    "    data['text'] = data['text'].apply(lambda x: ' '.join(x)) # Join the tokens back into a single string\n",
    "    data['text'] = data['text'].str.replace('[^\\w\\s]', '', regex = True)# Remove punctuation\n",
    "    data['text'] = data['text'].str.replace('\\d+', '', regex = True) # Remove numbers\n",
    "    return data\n",
    "\n",
    "def split_data(data):\n",
    "    X = data['text']\n",
    "    y = data['spam']\n",
    "    X_train, X_temp, y_train, y_temp = train_test_split(X, y, test_size=0.3, random_state=42, stratify=y)\n",
    "    X_val, X_test, y_val, y_test = train_test_split(X_temp, y_temp, test_size=0.5, random_state=42, stratify=y_temp)\n",
    "    train_data = pd.DataFrame({'text': X_train, 'label': y_train})\n",
    "    val_data = pd.DataFrame({'text': X_val, 'label': y_val})\n",
    "    test_data = pd.DataFrame({'text': X_test, 'label': y_test})\n",
    "    return train_data, val_data, test_data\n",
    "\n",
    "def store_data(train_data, val_data, test_data):\n",
    "    train_data.to_csv('train.csv', index=False)\n",
    "    val_data.to_csv('validation.csv', index=False)\n",
    "    test_data.to_csv('test.csv', index=False)\n",
    "\n",
    "# Load data\n",
    "data = load_data('emails.csv')\n",
    "\n",
    "# Preprocess data\n",
    "data = preprocess_data(data)\n",
    "\n",
    "# Split data\n",
    "train_data, val_data, test_data = split_data(data)\n",
    "\n",
    "# Store data\n",
    "store_data(train_data, val_data, test_data)\n"
   ]
  }
 ],
 "metadata": {
  "kernelspec": {
   "display_name": "Python 3 (ipykernel)",
   "language": "python",
   "name": "python3"
  },
  "language_info": {
   "codemirror_mode": {
    "name": "ipython",
    "version": 3
   },
   "file_extension": ".py",
   "mimetype": "text/x-python",
   "name": "python",
   "nbconvert_exporter": "python",
   "pygments_lexer": "ipython3",
   "version": "3.10.10"
  }
 },
 "nbformat": 4,
 "nbformat_minor": 5
}
